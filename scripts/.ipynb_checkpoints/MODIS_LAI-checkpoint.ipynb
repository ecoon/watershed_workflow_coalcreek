{
 "cells": [
  {
   "cell_type": "code",
   "execution_count": 1,
   "id": "4dca4e56",
   "metadata": {},
   "outputs": [],
   "source": [
    "# refactors MODIS LAI file from Pin to generate a smooth, \"typical\" LAI year for simpler runs\n",
    "#\n",
    "# Note, throughout we assume that timei starts at 1980 = time 0.  This makes life simpler for aligning with DayMet\n",
    "%matplotlib osx"
   ]
  },
  {
   "cell_type": "code",
   "execution_count": 2,
   "id": "3bb24a75",
   "metadata": {},
   "outputs": [],
   "source": [
    "import numpy as np\n",
    "from matplotlib import pyplot as plt\n",
    "import pandas as pd\n",
    "import scipy.interpolate\n",
    "import scipy.signal\n",
    "import h5py\n",
    "\n",
    "import colors"
   ]
  },
  {
   "cell_type": "code",
   "execution_count": 3,
   "id": "abff4d15",
   "metadata": {},
   "outputs": [],
   "source": [
    "def plot(df, form, axs):\n",
    "    cm = colors.enumerated_colors(3)\n",
    "    i = 0\n",
    "    for k in df.keys():\n",
    "        if not k.startswith('time'):\n",
    "            axs[i].plot(df['time [d]'], df[k], form, color=cm[i])\n",
    "            axs[i].set_ylabel(k)\n",
    "            i += 1"
   ]
  },
  {
   "cell_type": "code",
   "execution_count": 4,
   "id": "7450f37b",
   "metadata": {},
   "outputs": [],
   "source": [
    "# load the MODIS data and covert it to pandas\n",
    "d = h5py.File('CoalCreek_MODIS_LAI-072002_122019.h5','r')\n",
    "df = pd.DataFrame()\n",
    "for k in d.keys():\n",
    "    df[k] = d[k][:]\n",
    "\n",
    "df['time [d]'] = df['time [s]']/86400"
   ]
  },
  {
   "cell_type": "code",
   "execution_count": 5,
   "id": "1907f026",
   "metadata": {},
   "outputs": [
    {
     "name": "stdout",
     "output_type": "stream",
     "text": [
      "time extent, years: 22.504109589041096 39.9972602739726\n",
      "time extent, days: 8214.0 14599.0\n"
     ]
    }
   ],
   "source": [
    "# show the time extent of this file\n",
    "tmin = df.loc[0]['time [d]']\n",
    "tmax = df.loc[len(df)-1]['time [d]']\n",
    "print('time extent, years:', tmin/365, tmax/365)\n",
    "print('time extent, days:', tmin, tmax)\n",
    "\n"
   ]
  },
  {
   "cell_type": "code",
   "execution_count": 6,
   "id": "5b5208a5",
   "metadata": {},
   "outputs": [],
   "source": [
    "# interpolate this time series into a daily time series\n",
    "ts = np.arange(8214, 14600, 1)\n",
    "\n",
    "df_interp = pd.DataFrame()\n",
    "df_interp['time [d]'] = ts\n",
    "\n",
    "for k in df.keys():\n",
    "    if k != 'time [s]':\n",
    "        f = scipy.interpolate.interp1d(df['time [d]'][:], df[k][:])\n",
    "        df_interp[k] = f(ts)\n",
    "\n",
    "df = df_interp"
   ]
  },
  {
   "cell_type": "code",
   "execution_count": 7,
   "id": "d785ccf4",
   "metadata": {},
   "outputs": [],
   "source": [
    "# smooth the data\n",
    "df_smooth = pd.DataFrame()\n",
    "df_smooth['time [d]'] = df['time [d]']\n",
    "for k in df.keys():\n",
    "    if k != 'time [d]':\n",
    "        df_smooth[k] = scipy.signal.savgol_filter(df[k], 101, 3)\n",
    "\n",
    "        \n",
    "# plot comparison\n",
    "fig = plt.figure()\n",
    "axs = fig.subplots(3,1)\n",
    "#plot(df, '-', axs)\n",
    "plot(df_smooth, '-', axs)\n",
    "plt.show()\n",
    "\n",
    "# add time back and write to disk\n",
    "df_smooth['time [s]'] = df_smooth['time [d]']*86400\n",
    "with h5py.File('CoalCreek_MODIS_LAI_smoothed-2002_2020.h5','w') as fid:\n",
    "    for k in df_smooth:\n",
    "        fid.create_dataset(k, data=df_smooth[k][:])\n",
    "\n",
    "   "
   ]
  },
  {
   "cell_type": "code",
   "execution_count": 8,
   "id": "80d25a5e",
   "metadata": {},
   "outputs": [],
   "source": [
    "df = df_smooth\n",
    "\n",
    "# split into n_years dataframes, one per year\n",
    "df_yr = []\n",
    "for year in range(23, 39):\n",
    "    yr = df.loc[df_interp['time [d]'] >= year*365]\n",
    "    df_yr.append(yr.loc[yr['time [d]'] < (year+1)*365])\n",
    "\n",
    "# average across the years\n",
    "df_avg = pd.DataFrame()\n",
    "for yr in df_yr:\n",
    "    for k in yr.keys():\n",
    "        if not k.startswith('time'):\n",
    "            if k in df_avg:\n",
    "                df_avg[k] = df_avg[k].array + yr[k].array\n",
    "            else:\n",
    "                df_avg[k] = yr[k].copy()\n",
    "\n",
    "for k in df_avg.keys():\n",
    "    df_avg[k] = df_avg[k][:] / len(df_yr)\n",
    "\n",
    "df_avg['time [d]'] = df['time [d]']\n"
   ]
  },
  {
   "cell_type": "code",
   "execution_count": 12,
   "id": "073b9689",
   "metadata": {},
   "outputs": [],
   "source": [
    "# replicate 40 times to make 40 years (remem)\n",
    "# tile all data to repeat n_year times\n",
    "df_rep = pd.DataFrame()\n",
    "for key in df_avg:\n",
    "    if not key.startswith('time'):\n",
    "        df_rep[key] = np.tile(df_avg[key].array, 40)\n",
    "        assert(len(df_rep) == 40*365)\n",
    "    \n",
    "# time is simply daily data\n",
    "df_rep['time [s]'] = 86400. * np.arange(0., 40 * 365., 1.)\n",
    "df_rep['time [d]'] = np.arange(0., 40 * 365., 1.)"
   ]
  },
  {
   "cell_type": "code",
   "execution_count": 13,
   "id": "06faf374",
   "metadata": {},
   "outputs": [],
   "source": [
    "fig = plt.figure()\n",
    "axs = fig.subplots(3,1)\n",
    "plot(df_rep, '-', axs)\n",
    "plt.show()"
   ]
  },
  {
   "cell_type": "code",
   "execution_count": 14,
   "id": "97d38cd7",
   "metadata": {},
   "outputs": [],
   "source": [
    "with h5py.File('CoalCreek_MODIS_LAI_typical-1980_2020.h5','w') as fid:\n",
    "    for k in df_rep:\n",
    "        fid.create_dataset(k, data=df_rep[k][:])\n",
    "\n"
   ]
  },
  {
   "cell_type": "code",
   "execution_count": null,
   "id": "f01c4b2a",
   "metadata": {},
   "outputs": [],
   "source": []
  }
 ],
 "metadata": {
  "kernelspec": {
   "display_name": "Python 3",
   "language": "python",
   "name": "python3"
  },
  "language_info": {
   "codemirror_mode": {
    "name": "ipython",
    "version": 3
   },
   "file_extension": ".py",
   "mimetype": "text/x-python",
   "name": "python",
   "nbconvert_exporter": "python",
   "pygments_lexer": "ipython3",
   "version": "3.9.4"
  }
 },
 "nbformat": 4,
 "nbformat_minor": 5
}
